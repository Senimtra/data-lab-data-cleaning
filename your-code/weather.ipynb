{
 "cells": [
  {
   "cell_type": "markdown",
   "metadata": {},
   "source": [
    "## Global Historical Climatology Network Dataset\n",
    "Variables are stored in both rows and columns.\n",
    "This dataset represents the daily weather records for a weather station (MX17004) in Mexico for five months in 2010."
   ]
  },
  {
   "cell_type": "code",
   "execution_count": null,
   "metadata": {},
   "outputs": [],
   "source": [
    "import pandas as pd"
   ]
  },
  {
   "cell_type": "code",
   "execution_count": null,
   "metadata": {},
   "outputs": [],
   "source": [
    "weather_df = pd.read_csv('../weather-raw.csv')\n",
    "\n",
    "weather_df"
   ]
  },
  {
   "cell_type": "code",
   "execution_count": null,
   "metadata": {},
   "outputs": [],
   "source": [
    "# Melt days (values) into column 'day' (variable)\n",
    "\n",
    "weather_df = weather_df.melt(id_vars = ['id', 'year', 'month', 'element'], var_name = ['day'], value_name = \"temp\")\n",
    "\n",
    "weather_df.head()"
   ]
  },
  {
   "cell_type": "code",
   "execution_count": null,
   "metadata": {},
   "outputs": [],
   "source": [
    "# Rows (values) 'tmax' + 'tmin' into columns (variables) 'tmax' + 'tmin'\n",
    "\n",
    "weather_df = weather_df.pivot_table(index = ['id', 'year', 'month', 'day'], columns = 'element', values = 'temp')\n",
    "\n",
    "weather_df.head()"
   ]
  },
  {
   "cell_type": "code",
   "execution_count": null,
   "metadata": {},
   "outputs": [],
   "source": [
    "# Reset indexes\n",
    "\n",
    "weather_df = weather_df.reset_index()\n",
    "\n",
    "weather_df.head()"
   ]
  },
  {
   "cell_type": "code",
   "execution_count": null,
   "metadata": {},
   "outputs": [],
   "source": [
    "# Rename index name 'element' -> 'id'\n",
    "# Drop weather station name column (as it is always the same anyways)\n",
    "\n",
    "weather_df.rename_axis('id', axis = 1, inplace = True)\n",
    "weather_df = weather_df.drop('id', axis = 1)\n",
    "\n",
    "weather_df.head()"
   ]
  },
  {
   "cell_type": "code",
   "execution_count": null,
   "metadata": {},
   "outputs": [],
   "source": [
    "# Merging year, month, day into year-month-day\n",
    "\n",
    "# Stripping 'd' from day value\n",
    "weather_df.update([{'day': day[1:]} for day in weather_df['day']])\n",
    "\n",
    "# Changing data types of year, month, day to 'string'\n",
    "weather_df = weather_df.astype({'year' : 'string', 'month': 'string', 'day' : 'string'})\n",
    "\n",
    "# Concatenate year, month, day strings in new column 'date'\n",
    "weather_df.insert(0, 'date', weather_df['year'] + '-' + weather_df['month'].str.zfill(2) + '-' + weather_df['day'].str.zfill(2))\n",
    "\n",
    "# Drop old columns year, month, day\n",
    "weather_df = weather_df.drop(['year', 'month', 'day'], axis = 1)\n",
    "\n",
    "# Change date column data type to 'date'\n",
    "weather_df['date'] = pd.to_datetime(weather_df['date']).dt.date\n",
    "\n",
    "# Sort data frame by date\n",
    "weather_df = weather_df.sort_values(by = ['date'])\n",
    "\n",
    "# Reset index\n",
    "weather_df = weather_df.reset_index(drop = True)\n",
    "\n",
    "weather_df"
   ]
  }
 ],
 "metadata": {
  "kernelspec": {
   "display_name": "Python 3.9.12 ('base')",
   "language": "python",
   "name": "python3"
  },
  "language_info": {
   "codemirror_mode": {
    "name": "ipython",
    "version": 3
   },
   "file_extension": ".py",
   "mimetype": "text/x-python",
   "name": "python",
   "nbconvert_exporter": "python",
   "pygments_lexer": "ipython3",
   "version": "3.9.12"
  },
  "vscode": {
   "interpreter": {
    "hash": "3a677cc3a62f2d81855f233fae469a5f43f070d97a640d213221ee6c91be41b5"
   }
  }
 },
 "nbformat": 4,
 "nbformat_minor": 2
}
